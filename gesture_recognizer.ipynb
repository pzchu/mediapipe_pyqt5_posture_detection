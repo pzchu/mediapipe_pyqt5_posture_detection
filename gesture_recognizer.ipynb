{
 "cells": [
  {
   "cell_type": "markdown",
   "metadata": {
    "id": "h2q27gKz1H20"
   },
   "source": [
    "##### Copyright 2023 The MediaPipe Authors. All Rights Reserved."
   ]
  },
  {
   "cell_type": "markdown",
   "metadata": {
    "id": "L_cQX8dWu4Dv"
   },
   "source": [
    "# Gesture Recognizer with MediaPipe Tasks\n",
    "\n",
    "This notebook shows you how to use MediaPipe Tasks Python API to recognize hand gestures in images."
   ]
  },
  {
   "cell_type": "markdown",
   "metadata": {
    "id": "O6PN9FvIx614"
   },
   "source": [
    "## Preparation\n",
    "\n",
    "Let's start with installing MediaPipe."
   ]
  },
  {
   "cell_type": "markdown",
   "metadata": {
    "id": "a49D7h4TVmru"
   },
   "source": [
    "Then download an off-the-shelf model. This model can recognize 7 hand gestures: 👍, 👎, ✌️, ☝️, ✊, 👋, 🤟\n",
    "\n",
    "Check out the [MediaPipe documentation](https://developers.google.com/mediapipe/solutions/vision/gesture_recognizer#models) for more details about the model."
   ]
  },
  {
   "cell_type": "code",
   "execution_count": 1,
   "metadata": {
    "id": "OMjuVQiDYJKF"
   },
   "outputs": [
    {
     "data": {
      "text/plain": [
       "('gesture.task', <http.client.HTTPMessage at 0x1647cf591f0>)"
      ]
     },
     "execution_count": 1,
     "metadata": {},
     "output_type": "execute_result"
    }
   ],
   "source": [
    "import urllib\n",
    "url = f'https://storage.googleapis.com/mediapipe-models/gesture_recognizer/gesture_recognizer/float16/1/gesture_recognizer.task'\n",
    "urllib.request.urlretrieve(url, 'gesture.task')"
   ]
  },
  {
   "cell_type": "markdown",
   "metadata": {
    "id": "83PEJNp9yPBU"
   },
   "source": [
    "## Download test images\n",
    "\n",
    "Let's grab some test images that we'll use later. The images ([1](https://pixabay.com/photos/idea-pointing-raise-hand-raise-3082824/), [2](https://pixabay.com/photos/thumbs-up-happy-positive-woman-2649310/), [3](https://pixabay.com/photos/epidemic-disease-coronavirus-5082474/), [4](https://pixabay.com/photos/thumbs-down-disapprove-gesture-6744094/)) are from Pixabay."
   ]
  },
  {
   "cell_type": "code",
   "execution_count": 2,
   "metadata": {
    "id": "tzXuqyIBlXer"
   },
   "outputs": [],
   "source": [
    "import urllib\n",
    "\n",
    "IMAGE_FILENAMES = ['thumbs_down.jpg', 'victory.jpg', 'thumbs_up.jpg', 'pointing_up.jpg']\n",
    "\n",
    "for name in IMAGE_FILENAMES:\n",
    "  url = f'https://storage.googleapis.com/mediapipe-tasks/gesture_recognizer/{name}'\n",
    "  filename = './image/' + name\n",
    "  urllib.request.urlretrieve(url, filename)\n",
    "\n"
   ]
  },
  {
   "cell_type": "markdown",
   "metadata": {
    "id": "P8XRmapjySMN"
   },
   "source": [
    "Then let's check out the images."
   ]
  },
  {
   "cell_type": "code",
   "execution_count": 2,
   "metadata": {
    "id": "8rjHk72-lmHX"
   },
   "outputs": [
    {
     "name": "stdout",
     "output_type": "stream",
     "text": [
      "./image/thumbs_down.jpg\n"
     ]
    }
   ],
   "source": [
    "import cv2\n",
    "\n",
    "import math\n",
    "\n",
    "DESIRED_HEIGHT = 480\n",
    "DESIRED_WIDTH = 480\n",
    "IMAGE_FILENAMES = ['./image/thumbs_down.jpg', './image/victory.jpg', './image/thumbs_up.jpg', './image/pointing_up.jpg']\n",
    "\n",
    "def resize_and_show(image):\n",
    "  h, w = image.shape[:2]\n",
    "  if h < w:\n",
    "    img = cv2.resize(image, (DESIRED_WIDTH, math.floor(h/(w/DESIRED_WIDTH))))\n",
    "  else:\n",
    "    img = cv2.resize(image, (math.floor(w/(h/DESIRED_HEIGHT)), DESIRED_HEIGHT))\n",
    "  cv2.imshow('win',img)\n",
    "\n",
    "\n",
    "# Preview the images.\n",
    "images = {name: cv2.imread(name) for name in IMAGE_FILENAMES}\n",
    "for name, image in images.items():\n",
    "  print(name)\n",
    "  resize_and_show(image)\n",
    "  cv2.waitKey(0)\n",
    "  cv2.destroyAllWindows()\n",
    "  break"
   ]
  },
  {
   "cell_type": "markdown",
   "metadata": {
    "id": "Iy4r2_ePylIa"
   },
   "source": [
    "## Running inference and visualizing the results\n",
    "\n",
    "Here are the steps to run gesture recognizer using MediaPipe.\n",
    "\n",
    "Check out the [MediaPipe documentation](https://developers.google.com/mediapipe/solutions/vision/gesture_recognizer/python) to learn more about configuration options that this solution supports.\n",
    "\n",
    "*Note: Gesture Recognizer also returns the hand landmark it detects from the image, together with other useful information such as whether the hand(s) detected are left hand or right hand.*"
   ]
  },
  {
   "cell_type": "markdown",
   "metadata": {},
   "source": [
    "### mediapipe 读取照片信息有些讲究\n",
    "- 要么直接使用mp.Image.create_from_file 直接读取文件信息\n",
    "- 要么使用cv读取后，先转换RGB，在使用Image API "
   ]
  },
  {
   "cell_type": "code",
   "execution_count": 2,
   "metadata": {},
   "outputs": [
    {
     "name": "stdout",
     "output_type": "stream",
     "text": [
      "Victory\n",
      "perfect exit!\n"
     ]
    }
   ],
   "source": [
    "import cv2\n",
    "import mediapipe as mp\n",
    "from mediapipe.tasks import python\n",
    "from mediapipe.tasks.python import vision\n",
    "import numpy as np\n",
    "import traceback\n",
    "\n",
    "base_options = python.BaseOptions(model_asset_path='./gesture_recognizer.task')\n",
    "options = vision.GestureRecognizerOptions(base_options=base_options)\n",
    "recognizer = vision.GestureRecognizer.create_from_options(options)\n",
    "\n",
    "try: \n",
    "    frame = cv2.imread('./image/victory.jpg')\n",
    "    h,w,c = frame.shape\n",
    "    frame_copy = frame.copy()\n",
    "    frame = cv2.cvtColor(frame, cv2.COLOR_BGR2RGB)\n",
    "    #image1 = mp.Image.create_from_file('./image/victory.jpg')\n",
    "    frame = mp.Image(image_format=mp.ImageFormat.SRGB, data=frame)\n",
    "    recognition_result = recognizer.recognize(frame)\n",
    "    \n",
    "    if recognition_result.hand_landmarks:\n",
    "        hand_lm = recognition_result.hand_landmarks\n",
    "        for i in hand_lm[0]:\n",
    "            x,y = int(i.x * w), int(i.y * h)\n",
    "            cv2.circle(frame_copy, (x,y), 1, (255,0,120), 3)\n",
    "\n",
    "    if recognition_result.gestures:\n",
    "        gesture = recognition_result.gestures[0][0].category_name\n",
    "        print(gesture)\n",
    "        handedness = recognition_result.handedness[0][0].category_name\n",
    "        cv2.putText(frame_copy,gesture+'%'+handedness,(20,40), cv2.FONT_HERSHEY_COMPLEX, 1,(233,2,120),1)\n",
    "        \n",
    "    cv2.imshow('win', frame_copy)\n",
    "    cv2.waitKey(0)\n",
    "    \n",
    "except Exception as e:\n",
    "    mg = traceback.format_exc()\n",
    "    print(f'error:{mg}')\n",
    "\n",
    "cv2.destroyAllWindows()\n",
    "print('perfect exit!')"
   ]
  },
  {
   "attachments": {
    "landmark_style.png": {
     "image/png": "[encoded data removed]"
    }
   },
   "cell_type": "markdown",
   "metadata": {},
   "source": [
    "### 也可以采用mp_drawing.draw_handmarks的方式画图，只是需要做个前处理\n",
    "- recognition_result.hand_landmarks 返回的一个[[]],因此需要两维度索引。具体内容如下：  \n",
    "NormalizedLandmark(x=0.2899027168750763, y=0.7539041042327881, z=1.2974370520169032e-06, visibility=0.0, presence=0.0)\n",
    "- hand_landmarks[0] 取到了一个包含了21个Normxxx的列表，可以通过hand_landmarks[0][1]的方式找到其中的一个坐标点。\n",
    "- 26-31line代码体现了数据转换的方式，有兴趣的可以看下\n",
    "- ![landmark_style.png](attachment:landmark_style.png)"
   ]
  },
  {
   "cell_type": "code",
   "execution_count": 1,
   "metadata": {},
   "outputs": [
    {
     "ename": "RuntimeError",
     "evalue": "Unable to open file at c:\\Users\\deep\\Desktop\\2025_AI001_交互技术(0305更新）\\5-6. CNN与MobileNet、Mediapipe\\AI1101_0401_code\\Mediapipe\\gesture_recognizer.task, errno=-1",
     "output_type": "error",
     "traceback": [
      "\u001b[1;31m---------------------------------------------------------------------------\u001b[0m",
      "\u001b[1;31mRuntimeError\u001b[0m                              Traceback (most recent call last)",
      "\u001b[1;32m<ipython-input-1-cc65cc97448f>\u001b[0m in \u001b[0;36m<module>\u001b[1;34m\u001b[0m\n\u001b[0;32m      9\u001b[0m \u001b[0mbase_options\u001b[0m \u001b[1;33m=\u001b[0m \u001b[0mpython\u001b[0m\u001b[1;33m.\u001b[0m\u001b[0mBaseOptions\u001b[0m\u001b[1;33m(\u001b[0m\u001b[0mmodel_asset_path\u001b[0m\u001b[1;33m=\u001b[0m\u001b[1;34m'./gesture_recognizer.task'\u001b[0m\u001b[1;33m)\u001b[0m\u001b[1;33m\u001b[0m\u001b[1;33m\u001b[0m\u001b[0m\n\u001b[0;32m     10\u001b[0m \u001b[0moptions\u001b[0m \u001b[1;33m=\u001b[0m \u001b[0mvision\u001b[0m\u001b[1;33m.\u001b[0m\u001b[0mGestureRecognizerOptions\u001b[0m\u001b[1;33m(\u001b[0m\u001b[0mbase_options\u001b[0m\u001b[1;33m=\u001b[0m\u001b[0mbase_options\u001b[0m\u001b[1;33m)\u001b[0m\u001b[1;33m\u001b[0m\u001b[1;33m\u001b[0m\u001b[0m\n\u001b[1;32m---> 11\u001b[1;33m \u001b[0mrecognizer\u001b[0m \u001b[1;33m=\u001b[0m \u001b[0mvision\u001b[0m\u001b[1;33m.\u001b[0m\u001b[0mGestureRecognizer\u001b[0m\u001b[1;33m.\u001b[0m\u001b[0mcreate_from_options\u001b[0m\u001b[1;33m(\u001b[0m\u001b[0moptions\u001b[0m\u001b[1;33m)\u001b[0m\u001b[1;33m\u001b[0m\u001b[1;33m\u001b[0m\u001b[0m\n\u001b[0m\u001b[0;32m     12\u001b[0m \u001b[1;33m\u001b[0m\u001b[0m\n\u001b[0;32m     13\u001b[0m \u001b[1;32mtry\u001b[0m\u001b[1;33m:\u001b[0m\u001b[1;33m\u001b[0m\u001b[1;33m\u001b[0m\u001b[0m\n",
      "\u001b[1;32mc:\\Users\\deep\\anaconda3\\lib\\site-packages\\mediapipe\\tasks\\python\\vision\\gesture_recognizer.py\u001b[0m in \u001b[0;36mcreate_from_options\u001b[1;34m(cls, options)\u001b[0m\n\u001b[0;32m    338\u001b[0m         \u001b[0mtask_options\u001b[0m\u001b[1;33m=\u001b[0m\u001b[0moptions\u001b[0m\u001b[1;33m,\u001b[0m\u001b[1;33m\u001b[0m\u001b[1;33m\u001b[0m\u001b[0m\n\u001b[0;32m    339\u001b[0m     )\n\u001b[1;32m--> 340\u001b[1;33m     return cls(\n\u001b[0m\u001b[0;32m    341\u001b[0m         task_info.generate_graph_config(\n\u001b[0;32m    342\u001b[0m             \u001b[0menable_flow_limiting\u001b[0m\u001b[1;33m=\u001b[0m\u001b[0moptions\u001b[0m\u001b[1;33m.\u001b[0m\u001b[0mrunning_mode\u001b[0m\u001b[1;33m\u001b[0m\u001b[1;33m\u001b[0m\u001b[0m\n",
      "\u001b[1;32mc:\\Users\\deep\\anaconda3\\lib\\site-packages\\mediapipe\\tasks\\python\\vision\\core\\base_vision_task_api.py\u001b[0m in \u001b[0;36m__init__\u001b[1;34m(self, graph_config, running_mode, packet_callback)\u001b[0m\n\u001b[0;32m     68\u001b[0m           \u001b[1;34m'callback should not be provided.'\u001b[0m\u001b[1;33m\u001b[0m\u001b[1;33m\u001b[0m\u001b[0m\n\u001b[0;32m     69\u001b[0m       )\n\u001b[1;32m---> 70\u001b[1;33m     \u001b[0mself\u001b[0m\u001b[1;33m.\u001b[0m\u001b[0m_runner\u001b[0m \u001b[1;33m=\u001b[0m \u001b[0m_TaskRunner\u001b[0m\u001b[1;33m.\u001b[0m\u001b[0mcreate\u001b[0m\u001b[1;33m(\u001b[0m\u001b[0mgraph_config\u001b[0m\u001b[1;33m,\u001b[0m \u001b[0mpacket_callback\u001b[0m\u001b[1;33m)\u001b[0m\u001b[1;33m\u001b[0m\u001b[1;33m\u001b[0m\u001b[0m\n\u001b[0m\u001b[0;32m     71\u001b[0m     \u001b[0mself\u001b[0m\u001b[1;33m.\u001b[0m\u001b[0m_running_mode\u001b[0m \u001b[1;33m=\u001b[0m \u001b[0mrunning_mode\u001b[0m\u001b[1;33m\u001b[0m\u001b[1;33m\u001b[0m\u001b[0m\n\u001b[0;32m     72\u001b[0m \u001b[1;33m\u001b[0m\u001b[0m\n",
      "\u001b[1;31mRuntimeError\u001b[0m: Unable to open file at c:\\Users\\deep\\Desktop\\2025_AI001_交互技术(0305更新）\\5-6. CNN与MobileNet、Mediapipe\\AI1101_0401_code\\Mediapipe\\gesture_recognizer.task, errno=-1"
     ]
    }
   ],
   "source": [
    "import cv2\n",
    "import mediapipe as mp\n",
    "from mediapipe.tasks import python\n",
    "from mediapipe.tasks.python import vision\n",
    "import numpy as np\n",
    "from mediapipe.framework.formats import landmark_pb2\n",
    "import traceback\n",
    "\n",
    "base_options = python.BaseOptions(model_asset_path='./gesture_recognizer.task')\n",
    "options = vision.GestureRecognizerOptions(base_options=base_options)\n",
    "recognizer = vision.GestureRecognizer.create_from_options(options)\n",
    "\n",
    "try: \n",
    "    frame = cv2.imread('./image/victory.jpg')\n",
    "    h,w,c = frame.shape\n",
    "    frame_copy = frame.copy()\n",
    "    frame = cv2.cvtColor(frame, cv2.COLOR_BGR2RGB)\n",
    "    #image1 = mp.Image.create_from_file('./image/victory.jpg')\n",
    "    frame = mp.Image(image_format=mp.ImageFormat.SRGB, data=frame)\n",
    "    recognition_result = recognizer.recognize(frame)\n",
    "    \n",
    "    mp_hands = mp.solutions.hands\n",
    "    mp_drawing = mp.solutions.drawing_utils\n",
    "    mp_drawing_styles = mp.solutions.drawing_styles\n",
    "\n",
    "    if recognition_result.hand_landmarks:\n",
    "        hand_landmarks_proto = landmark_pb2.NormalizedLandmarkList()#实例化存储mark的对象\n",
    "        hand_landmarks_proto.landmark.extend([\n",
    "            landmark_pb2.NormalizedLandmark(x=landmark.x, y=landmark.y, z=landmark.z) for landmark in recognition_result.hand_landmarks[0]\n",
    "          ])#将norm的形式转为正常形式\n",
    "        mp_drawing.draw_landmarks(frame_copy, hand_landmarks_proto,mp_hands.HAND_CONNECTIONS)\n",
    "        \n",
    "    if recognition_result.gestures:\n",
    "        gesture = recognition_result.gestures[0][0].category_name\n",
    "        handedness = recognition_result.handedness[0][0].category_name\n",
    "        cv2.putText(frame_copy,gesture+'%'+handedness,(20,40), cv2.FONT_HERSHEY_COMPLEX, 1,(233,2,120),1)\n",
    "    cv2.imshow('win', frame_copy)\n",
    "    cv2.waitKey(0)\n",
    "    \n",
    "except Exception as e:\n",
    "    mg= traceback.format_exc()\n",
    "    print(f'error:{mg}')\n",
    "\n",
    "cv2.destroyAllWindows()\n",
    "print('perfect exit!')"
   ]
  },
  {
   "cell_type": "markdown",
   "metadata": {},
   "source": [
    "### 读取视频代码，自行补充\n",
    "- 注意一些数据的输出输出样式即可"
   ]
  }
 ],
 "metadata": {
  "colab": {
   "provenance": []
  },
  "kernelspec": {
   "display_name": "base",
   "language": "python",
   "name": "python3"
  },
  "language_info": {
   "codemirror_mode": {
    "name": "ipython",
    "version": 3
   },
   "file_extension": ".py",
   "mimetype": "text/x-python",
   "name": "python",
   "nbconvert_exporter": "python",
   "pygments_lexer": "ipython3",
   "version": "3.8.8"
  }
 },
 "nbformat": 4,
 "nbformat_minor": 4
}
