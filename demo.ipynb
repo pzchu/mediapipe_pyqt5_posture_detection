{
 "cells": [
  {
   "cell_type": "code",
   "execution_count": 4,
   "metadata": {},
   "outputs": [
    {
     "name": "stdout",
     "output_type": "stream",
     "text": [
      "############\n",
      "############\n",
      "------------\n"
     ]
    }
   ],
   "source": [
    "\n",
    "import sys\n",
    "import cv2\n",
    "import mediapipe as mp\n",
    "import numpy as np\n",
    "from PyQt5.QtCore import QTimer\n",
    "from PyQt5.QtGui import QImage, QPixmap\n",
    "from PyQt5.QtWidgets import QApplication, QMainWindow\n",
    "from camera import Ui_MainWindow\n",
    "from mediapipe.tasks.python import vision\n",
    "from mediapipe.tasks.python.vision import GestureRecognizer\n",
    "\n",
    "from mediapipe.tasks import python\n",
    "import os\n",
    "\n",
    "\n",
    "model_path = os.path.abspath('C:/Users/deep/gitcode/mediapipe_pyqt5_posture_detection/gesture_recognizer (2).task')\n",
    "#self.gesture_recognizer = self.load_gesture_recognizer(model_path)\n",
    "base_options = python.BaseOptions(model_asset_path=model_path)\n",
    "print('############')\n",
    "options = vision.GestureRecognizerOptions(base_options=base_options)\n",
    "print('############')\n",
    "gesture_recognizer = vision.GestureRecognizer.create_from_options(options)\n",
    "print('------------')\n",
    "\n"
   ]
  }
 ],
 "metadata": {
  "kernelspec": {
   "display_name": "base",
   "language": "python",
   "name": "python3"
  },
  "language_info": {
   "codemirror_mode": {
    "name": "ipython",
    "version": 3
   },
   "file_extension": ".py",
   "mimetype": "text/x-python",
   "name": "python",
   "nbconvert_exporter": "python",
   "pygments_lexer": "ipython3",
   "version": "3.8.8"
  }
 },
 "nbformat": 4,
 "nbformat_minor": 2
}
